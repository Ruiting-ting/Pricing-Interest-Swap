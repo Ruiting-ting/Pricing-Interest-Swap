{
 "cells": [
  {
   "cell_type": "markdown",
   "metadata": {},
   "source": [
    "# Price Interest Rate Swaps"
   ]
  },
  {
   "cell_type": "markdown",
   "metadata": {},
   "source": [
    "1. Get quarterly LIBOR rate: 3m,6m,9m,12m;\n",
    "2. Using quarterly libor rates to subtract 10bps to get OIS\n",
    "3. Get Swap rate, which is used to calculate coupon (# From the website).# 1y,2y,3y,5y,7y,10y,30y\n",
    "4. Using interplotation method, we could get swap rate like in 1.5 years. \n",
    "\n",
    "5. Bootstraping zero curves by LIBOR and SWAP rate( Bond principal,(Par value), time to maturity, coupon)\n",
    "\n",
    "One year swap rate is 0.23%, so the coupon is 100*\n"
   ]
  },
  {
   "cell_type": "code",
   "execution_count": 1,
   "metadata": {},
   "outputs": [],
   "source": [
    "import numpy as np\n",
    "import scipy\n",
    "from scipy import stats\n",
    "import statsmodels.api as sm\n",
    "import pandas as pd\n",
    "import numpy.linalg as npl\n",
    "import matplotlib.pyplot as plt\n",
    "from scipy.optimize import fmin_bfgs\n",
    "import scipy.optimize\n",
    "from scipy.optimize import minimize"
   ]
  },
  {
   "cell_type": "code",
   "execution_count": 2,
   "metadata": {},
   "outputs": [],
   "source": [
    "### preprocessing of the input data \n",
    "df_Libor = pd.read_csv('ICELiborHistoricalRates (1).csv')\n",
    "df_Libor.drop('Publication Time',axis='columns', inplace=True)\n",
    "\n",
    "df_swap = pd.read_excel('SwapRate.xlsx')\n",
    "### Using interpolation method to get the libor rate on 9 months\n",
    "df_Libor.loc[7] = ['12 Month', float(df_Libor.iloc[[-1],[1]].values) ]\n",
    "month_9 = (df_Libor.iloc[[-1],[1]].values - df_Libor.iloc[[-3],[1]].values)*0.5 + df_Libor.iloc[[-3],[1]].values\n",
    "df_Libor.loc[6] = ['9 Month', month_9] \n",
    "df_Libor = df_Libor.rename(columns = {'USD ICE LIBOR 23-Nov-2020': 'LIBOR'}, inplace = False)\n",
    "df_Libor = df_Libor.iloc[-4:,]\n",
    "df_Libor['LIBOR'] = df_Libor['LIBOR'] /100\n",
    "Libor = df_Libor['LIBOR'].tolist()\n",
    "\n",
    "ZR_ts = [0.25, 0.5, 0.75, 1]\n",
    "ZRs = Libor\n",
    "swap_ts = df_swap['Time'].tolist()\n",
    "SwapRates = df_swap['SwapRate'].tolist()\n"
   ]
  },
  {
   "cell_type": "code",
   "execution_count": 10,
   "metadata": {},
   "outputs": [
    {
     "data": {
      "text/html": [
       "<div>\n",
       "<style scoped>\n",
       "    .dataframe tbody tr th:only-of-type {\n",
       "        vertical-align: middle;\n",
       "    }\n",
       "\n",
       "    .dataframe tbody tr th {\n",
       "        vertical-align: top;\n",
       "    }\n",
       "\n",
       "    .dataframe thead th {\n",
       "        text-align: right;\n",
       "    }\n",
       "</style>\n",
       "<table border=\"1\" class=\"dataframe\">\n",
       "  <thead>\n",
       "    <tr style=\"text-align: right;\">\n",
       "      <th></th>\n",
       "      <th>Tenor</th>\n",
       "      <th>LIBOR</th>\n",
       "    </tr>\n",
       "  </thead>\n",
       "  <tbody>\n",
       "    <tr>\n",
       "      <th>4</th>\n",
       "      <td>3 Month</td>\n",
       "      <td>0.002065</td>\n",
       "    </tr>\n",
       "    <tr>\n",
       "      <th>5</th>\n",
       "      <td>6 Month</td>\n",
       "      <td>0.002537</td>\n",
       "    </tr>\n",
       "    <tr>\n",
       "      <th>6</th>\n",
       "      <td>9 Month</td>\n",
       "      <td>0.002947</td>\n",
       "    </tr>\n",
       "    <tr>\n",
       "      <th>7</th>\n",
       "      <td>12 Month</td>\n",
       "      <td>0.003356</td>\n",
       "    </tr>\n",
       "  </tbody>\n",
       "</table>\n",
       "</div>"
      ],
      "text/plain": [
       "      Tenor     LIBOR\n",
       "4   3 Month  0.002065\n",
       "5   6 Month  0.002537\n",
       "6   9 Month  0.002947\n",
       "7  12 Month  0.003356"
      ]
     },
     "execution_count": 10,
     "metadata": {},
     "output_type": "execute_result"
    }
   ],
   "source": [
    "df_Libor"
   ]
  },
  {
   "cell_type": "code",
   "execution_count": 3,
   "metadata": {},
   "outputs": [],
   "source": [
    "class IRSPricer(): \n",
    "    def __init__(self,  swapRate, tfrac=0.25, maturity=5, Notional=100):\n",
    "        ## Two cases: \n",
    "        # Case 1:  swapID, 0: a newly issued swap, swapRate is to be calculated\n",
    "        # Case 2:  swapID, 0: An already issued swap, price and sensitivity is to be caculated\n",
    "   \n",
    "        self.swapRate = swapRate\n",
    "        self.Notional = Notional\n",
    "        self.tfrac = tfrac\n",
    "        self.maturity = maturity\n",
    "\n",
    "        \n",
    "    def Curves(self, ZR_ts, ZRs, swap_ts, SwapRates, PayFre=4, SwapNotional=100):\n",
    "        # build a complete zero curves from time zero\n",
    "        # assuming the input as follows: \n",
    "             #   ZR_ts and ZRs are the maturity (in year) and zero rates of short maturity \n",
    "             #   (e.g. Zr_ts is an array of 0.25, 0.5, 0.75, 1, and ZRs have the corresponding zero r\n",
    "        #    swap_ts and SwapRates are the swap time and swapRates\n",
    "        #        The ZR_ts and swap_ts must have the same frequency and swap_ts follows ZR_ts, \n",
    "             #   so that together they cover a complete period  \n",
    "        ###  The aim of the function is to build a zero rate curve covering the whole period of ZR_ts + swap_ts\n",
    "        ZR_Ps = len(ZR_ts) \n",
    "        swap_Ps = len(swap_ts)\n",
    "        Total_Ps = ZR_Ps + swap_Ps\n",
    "        TotalZRs = np.zeros((Total_Ps,3))  # col 0: time, col 1 : SwapRate, col 2: zero rate\n",
    "\n",
    "        TotalZRs[0:ZR_Ps,0] = ZR_ts\n",
    "        TotalZRs[ZR_Ps:,0] = swap_ts\n",
    "        TotalZRs[0:ZR_Ps,2] = ZRs\n",
    "        TotalZRs[ZR_Ps:,1] = SwapRates\n",
    "\n",
    "        for i in range(ZR_Ps, Total_Ps):\n",
    "            sr = TotalZRs[i,1]\n",
    "            zrs = TotalZRs[0:i,2]\n",
    "            ts = TotalZRs[0:i,0]\n",
    "            ti = TotalZRs[i,0]\n",
    "\n",
    "            PayTs = len(ts)\n",
    "            Pays = PayTs * [0]\n",
    "            Pays[-1] = SwapNotional\n",
    "            cpn = sr / PayFre * SwapNotional ## coupon\n",
    "            paymentsBefore = cpn * np.exp(- zrs * ts) # sum \n",
    "            PaysBeforeSum = np.sum(paymentsBefore)\n",
    "            finalP = SwapNotional + cpn \n",
    "\n",
    "            zeroRate = - np.log((SwapNotional - PaysBeforeSum) / finalP) / ti\n",
    "            TotalZRs[i,2] = zeroRate          \n",
    "            \n",
    "        self.Ts = TotalZRs[:,0]\n",
    "        self.ZRates = TotalZRs[:,2]\n",
    "        self.OIS = TotalZRs[:,2] - 0.001 # assume that the OIS rate is 10 basis point below the zero rates\n",
    "        self.DFs = np.exp(-self.Ts * self.OIS)\n",
    "        \n",
    "    def calSwapValue(self):\n",
    "        NPVFloat = self.FloatingLeg() \n",
    "        NPVFixed = self.FixedLeg()\n",
    "        \n",
    "        NPV =  NPVFloat - NPVFixed\n",
    "        return NPV\n",
    "\n",
    "        \n",
    "    def FloatingLeg(self):\n",
    "        tfrac = self.tfrac\n",
    "        maturity = self.maturity\n",
    "        ZRates = self.ZRates\n",
    "        Notional = self.Notional\n",
    "        DFs = self.DFs\n",
    "        Ts = self.Ts\n",
    "        NrPs = int(maturity / tfrac)\n",
    "        ZeroRateDFs = np.exp(- ZRates * Ts)\n",
    "        RatesTs = ZRates * Ts\n",
    "        FloatRates = (ZeroRateDFs[:-1] / ZeroRateDFs[1:] - 1 ) /tfrac\n",
    "        FloatRates = np.insert(FloatRates, 0, ZRates[0])\n",
    "        FloatCashFlow = Notional * FloatRates[:NrPs] * tfrac\n",
    "        DiscountFloatCashFlow = FloatCashFlow * DFs[:NrPs]\n",
    "        NPVFloat = np.sum(DiscountFloatCashFlow)\n",
    "        self.FloatRates = FloatRates\n",
    "        \n",
    "        return NPVFloat\n",
    "    \n",
    "        \n",
    "    def DetermineAmortizingNotional(self):\n",
    "        tfrac = self.tfrac\n",
    "        maturity = self.maturity\n",
    "        NrPs = int(maturity / tfrac)\n",
    "        Notional = self.Notional \n",
    "        Notionals = np.linspace(Notional, Notional / NrPs, NrPs)\n",
    "        self.Notional = Notionals\n",
    "        \n",
    "        return Notionals\n",
    "    \n",
    "    def ShockCurves(self, shock):\n",
    "        # the shock is by percentage, e.g. 0.01\n",
    "        ZRates = self.ZRates \n",
    "        NewZeroRates = ZRates * (1 + shock)\n",
    "        NewOIS = NewZeroRates - 0.001 # assume that the OIS rate is 10 basis point below the zero rates\n",
    "        self.OIS = NewOIS\n",
    "        NewDFs = np.exp(-self.Ts * self.OIS)\n",
    "        self.DFs = NewDFs\n",
    "        \n",
    "        self.ZRates = NewZeroRates  \n",
    "        return NewZeroRates\n",
    "     \n",
    "    \n",
    "    def FixedLeg(self):\n",
    "        tfrac = self.tfrac\n",
    "        maturity = self.maturity\n",
    "        swapRate = self.swapRate\n",
    "        Notional = self.Notional\n",
    "        DFs = self.DFs\n",
    "        NrPs = int(maturity / tfrac)\n",
    "        DFs = DFs[:NrPs]\n",
    "        FixedCashFlow = Notional * swapRate * tfrac * DFs\n",
    "        NPVTotalFixed = np.sum(FixedCashFlow)\n",
    "        \n",
    "        return NPVTotalFixed\n",
    "        \n",
    "    \n",
    "    def NPV(): \n",
    "        Pass\n",
    "     "
   ]
  },
  {
   "cell_type": "code",
   "execution_count": 33,
   "metadata": {},
   "outputs": [
    {
     "data": {
      "text/plain": [
       "1.5905283695376995"
      ]
     },
     "execution_count": 33,
     "metadata": {},
     "output_type": "execute_result"
    }
   ],
   "source": [
    "# Question 1: \n",
    "# calculate a swap value with a given fixed swap rate\n",
    "IRS0 = IRSPricer(0.0015, 0.25, 5, 100) # fixedrate, timefraction, maturityInYear, notional\n",
    "IRS0.Curves(ZR_ts, ZRs, swap_ts, SwapRates)\n",
    "NPV = IRS0.calSwapValue()\n",
    "NPV\n"
   ]
  },
  {
   "cell_type": "code",
   "execution_count": 32,
   "metadata": {},
   "outputs": [
    {
     "data": {
      "text/plain": [
       "0.2395420490157622"
      ]
     },
     "execution_count": 32,
     "metadata": {},
     "output_type": "execute_result"
    }
   ],
   "source": [
    "IRS125 = IRSPricer(0.0015, 0.25, 2, 100) # fixedrate, timefraction, maturityInYear, notional\n",
    "IRS125.Curves(ZR_ts, ZRs, swap_ts, SwapRates)\n",
    "NPV125 = IRS125.calSwapValue()\n",
    "NPV125"
   ]
  },
  {
   "cell_type": "code",
   "execution_count": 35,
   "metadata": {},
   "outputs": [
    {
     "data": {
      "text/plain": [
       "array(0.00470286)"
      ]
     },
     "execution_count": 35,
     "metadata": {},
     "output_type": "execute_result"
    }
   ],
   "source": [
    "# Question 2: \n",
    "# find the ParRate of an initilized swap\n",
    "def findParRate(swapRate): \n",
    "    IRS0.swapRate = swapRate\n",
    "    NPV = IRS0.calSwapValue()\n",
    "    return NPV ** 2\n",
    "\n",
    "res = minimize(findParRate, 0.02, method='Powell')\n",
    "ParRate = res.x\n",
    "ParRate "
   ]
  },
  {
   "cell_type": "code",
   "execution_count": 36,
   "metadata": {},
   "outputs": [
    {
     "data": {
      "text/plain": [
       "array(0.00360473)"
      ]
     },
     "execution_count": 36,
     "metadata": {},
     "output_type": "execute_result"
    }
   ],
   "source": [
    "# change the notional from a single number to a array of AmortizingNotionals\n",
    "Notionals = IRS0.DetermineAmortizingNotional()\n",
    "FloatRates = IRS0.FloatRates\n",
    "newSwapValue = IRS0.calSwapValue()\n",
    "Newres = minimize(findParRate, 0.02, method='Powell')\n",
    "NewParRate = Newres.x\n",
    "NewParRate \n"
   ]
  },
  {
   "cell_type": "code",
   "execution_count": 52,
   "metadata": {},
   "outputs": [],
   "source": [
    "## Question 3: \n",
    "### we initilize a swap with long remaining maturity, e.g. 10 years\n",
    "NPV1=[]\n",
    "NPV10BPS=[]\n",
    "NPV_10BPS=[]\n",
    "NPV20BPS = []\n",
    "NPV_20BPS = []\n",
    "for i in range(6,31):\n",
    "    IRS1 = IRSPricer(0.0015, 0.25, i, 100) # swapRate, timefraction, maturityInYear, notional\n",
    "    IRS1.Curves(ZR_ts, ZRs, swap_ts, SwapRates)\n",
    "    NPV = IRS1.calSwapValue()\n",
    "    NPV1.append(NPV)\n",
    "    \n",
    "    IRS1.ShockCurves(0.01)\n",
    "    NPV10Bps = IRS1.calSwapValue()\n",
    "    NPV10BPS.append(NPV10Bps)\n",
    "    \n",
    "    IRS1.ShockCurves(-0.01)\n",
    "    NPV_10Bps = IRS1.calSwapValue()\n",
    "    NPV_10BPS.append(NPV_10Bps)\n",
    "    \n",
    "    IRS1.ShockCurves(0.02)\n",
    "    NPV20Bps = IRS1.calSwapValue()\n",
    "    NPV20BPS.append(NPV20Bps)\n",
    "    \n",
    "    IRS1.ShockCurves(-0.02)\n",
    "    NPV_20Bps = IRS1.calSwapValue()\n",
    "    NPV_20BPS.append(NPV_20Bps)"
   ]
  },
  {
   "cell_type": "code",
   "execution_count": 59,
   "metadata": {},
   "outputs": [],
   "source": [
    "a = pd.DataFrame(NPV1)\n",
    "b = pd.DataFrame(NPV10BPS)\n",
    "c = pd.DataFrame(NPV20BPS)\n",
    "d = pd.DataFrame(NPV_10BPS)\n",
    "e = pd.DataFrame(NPV_20BPS)\n",
    "a.to_excel (r'D:\\SPF2\\NPV1.xlsx', index = True, header=True)\n",
    "b.to_excel (r'D:\\SPF2\\NPV10BPS.xlsx', index = True, header=True)\n",
    "c.to_excel (r'D:\\SPF2\\NPV20BPS.xlsx', index = True, header=True)\n",
    "d.to_excel (r'D:\\SPF2\\NPV_10BPS.xlsx', index = True, header=True)\n",
    "e.to_excel (r'D:\\SPF2\\NPV_20BPS.xlsx', index = True, header=True)"
   ]
  },
  {
   "cell_type": "code",
   "execution_count": 53,
   "metadata": {},
   "outputs": [
    {
     "data": {
      "image/png": "[encoded data removed]",
      "text/plain": [
       "<Figure size 720x360 with 1 Axes>"
      ]
     },
     "metadata": {
      "needs_background": "light"
     },
     "output_type": "display_data"
    }
   ],
   "source": [
    "plt.figure(figsize=(10,5))    \n",
    "plt.plot(range(6,31), NPV1, label = 'Original Swap Prices ')\n",
    "plt.plot(range(6,31), NPV10BPS, label = '1% Increase on the Current Zero curve')\n",
    "plt.plot(range(6,31), NPV_10BPS, label = '1% Decrease on the Current Zero curve')\n",
    "plt.plot(range(6,31), NPV20BPS, label = '2% Increase on the Current Zero curve')\n",
    "plt.plot(range(6,31), NPV_20BPS, label = '2% Decrease on the Current Zero curve')\n",
    "plt.ylabel('Swap Prices')\n",
    "plt.xlabel('Time to Maturity--Years')\n",
    "plt.legend()\n",
    "plt.show()"
   ]
  },
  {
   "cell_type": "code",
   "execution_count": 40,
   "metadata": {},
   "outputs": [
    {
     "data": {
      "text/plain": [
       "28.83575125848419"
      ]
     },
     "execution_count": 40,
     "metadata": {},
     "output_type": "execute_result"
    }
   ],
   "source": [
    "# we shock the Zero Rate by increase 1%\n",
    "IRS1.ShockCurves(0.01)\n",
    "NPV10Bps = IRS1.calSwapValue()\n",
    "NPV10Bps\n"
   ]
  },
  {
   "cell_type": "code",
   "execution_count": 14,
   "metadata": {},
   "outputs": [],
   "source": [
    "ZRates = IRS0.ZRates\n",
    "OIS = IRS0.OIS\n",
    "Ts = IRS0.Ts\n",
    "#plt"
   ]
  },
  {
   "cell_type": "code",
   "execution_count": 19,
   "metadata": {},
   "outputs": [
    {
     "data": {
      "image/png": "[encoded data removed]",
      "text/plain": [
       "<Figure size 720x360 with 1 Axes>"
      ]
     },
     "metadata": {
      "needs_background": "light"
     },
     "output_type": "display_data"
    }
   ],
   "source": [
    "plt.figure(figsize=(10,5))    \n",
    "plt.plot(Ts, ZRates*100, label = 'US-LIBOR/SWAP-Zero-Curve')\n",
    "plt.plot(Ts, OIS*100, label = 'US-OIS-Zero-Curve')\n",
    "#plt.plot(TRs[:,0], TRs[:,1], label = 'US-LIBOR')\n",
    "#plt.plot(TRs[:,0], TRs[:,1], label = 'US-LIBOR-SWAP')\n",
    "plt.ylabel('Yield')\n",
    "plt.xlabel('Time to Maturity--Years')\n",
    "plt.legend()\n",
    "plt.show()"
   ]
  },
  {
   "cell_type": "code",
   "execution_count": null,
   "metadata": {},
   "outputs": [],
   "source": []
  }
 ],
 "metadata": {
  "kernelspec": {
   "display_name": "Python 3",
   "language": "python",
   "name": "python3"
  },
  "language_info": {
   "codemirror_mode": {
    "name": "ipython",
    "version": 3
   },
   "file_extension": ".py",
   "mimetype": "text/x-python",
   "name": "python",
   "nbconvert_exporter": "python",
   "pygments_lexer": "ipython3",
   "version": "3.8.5"
  }
 },
 "nbformat": 4,
 "nbformat_minor": 4
}
